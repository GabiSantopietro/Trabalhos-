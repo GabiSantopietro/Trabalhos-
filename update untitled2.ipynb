
     https://colab.research.google.com/drive/15qfPXdgzAa18xsooXSOzrHDKjNHy-n68#scrollTo=ur8xi4C7S06n&line=1&uniqifier=1
